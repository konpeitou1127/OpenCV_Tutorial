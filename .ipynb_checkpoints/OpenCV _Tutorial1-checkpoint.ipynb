{
 "cells": [
  {
   "cell_type": "markdown",
   "metadata": {},
   "source": [
    "## ライブラリの読み込みと初期設定"
   ]
  },
  {
   "cell_type": "code",
   "execution_count": null,
   "metadata": {
    "collapsed": true
   },
   "outputs": [],
   "source": [
    "import cv2\n",
    "import numpy as np\n",
    "from matplotlib import pyplot as plt\n",
    "%matplotlib inline"
   ]
  },
  {
   "cell_type": "markdown",
   "metadata": {},
   "source": [
    "## 画像の読み込み\n",
    "### カラーで読み込む"
   ]
  },
  {
   "cell_type": "code",
   "execution_count": null,
   "metadata": {
    "collapsed": false
   },
   "outputs": [],
   "source": [
    "img = cv2.imread('./img/Lenna.png')\n",
    "#画像の次元数を表示\n",
    "print(img.shape)"
   ]
  },
  {
   "cell_type": "markdown",
   "metadata": {},
   "source": [
    "### グレースケールで読み込む"
   ]
  },
  {
   "cell_type": "code",
   "execution_count": null,
   "metadata": {
    "collapsed": false
   },
   "outputs": [],
   "source": [
    "gray_img = cv2.imread('./img/Lenna.png', 0)\n",
    "#画像の次元数を表示\n",
    "print(gray_img.shape)"
   ]
  },
  {
   "cell_type": "markdown",
   "metadata": {},
   "source": [
    "### 画像の表示"
   ]
  },
  {
   "cell_type": "code",
   "execution_count": null,
   "metadata": {
    "collapsed": false
   },
   "outputs": [],
   "source": [
    "convert_img = cv2.cvtColor(img, cv2.COLOR_BGR2RGB)\n",
    "\n",
    "fig = plt.figure(figsize=(10,10),dpi=200)\n",
    "ax1 = fig.add_subplot(1,2,1)\n",
    "ax1.set_title('カラー画像')\n",
    "ax1.imshow(convert_img)\n",
    "\n",
    "ax2 = fig.add_subplot(1,2,2)\n",
    "ax2.set_title('グレースケール画像')\n",
    "ax2.imshow(gray_img, cmap='gray')\n",
    "plt.show()"
   ]
  },
  {
   "cell_type": "markdown",
   "metadata": {},
   "source": [
    "## 拡大・縮小"
   ]
  },
  {
   "cell_type": "code",
   "execution_count": null,
   "metadata": {
    "collapsed": false,
    "scrolled": false
   },
   "outputs": [],
   "source": [
    "print(\"元画像のサイズ\")\n",
    "print(img.shape)\n",
    "small_img = cv2.resize(convert_img, None, fx=0.25, fy=0.25, interpolation=cv2.INTER_CUBIC)\n",
    "print(\"縮小画像のサイズ\")\n",
    "print(small_img.shape)\n",
    "big_img = cv2.resize(convert_img, None, fx=4.0, fy=4.0, interpolation=cv2.INTER_CUBIC)\n",
    "print(\"拡大画像のサイズ\")\n",
    "print(big_img.shape)\n",
    "fig = plt.figure(figsize=(10,10),dpi=200)\n",
    "ax1 = fig.add_subplot(2,2,1)\n",
    "ax1.set_title('元画像')\n",
    "ax1.imshow(convert_img)\n",
    "ax2 = fig.add_subplot(2,2,2)\n",
    "ax2.set_title('縮小した画像')\n",
    "ax2.imshow(small_img)\n",
    "\n",
    "ax3 = fig.add_subplot(2,2,3)\n",
    "ax3.set_title('拡大した画像')\n",
    "ax3.imshow(big_img, cmap='gray')\n",
    "plt.show()"
   ]
  },
  {
   "cell_type": "markdown",
   "metadata": {},
   "source": [
    "## 画像の保存"
   ]
  },
  {
   "cell_type": "code",
   "execution_count": null,
   "metadata": {
    "collapsed": false
   },
   "outputs": [],
   "source": [
    "small_img = cv2.cvtColor(small_img, cv2.COLOR_RGB2BGR)\n",
    "big_img = cv2.cvtColor(big_img, cv2.COLOR_RGB2BGR)\n",
    "cv2.imwrite(\"./img/small_img.png\", small_img)\n",
    "cv2.imwrite(\"./img/big_img.png\", big_img)"
   ]
  },
  {
   "cell_type": "markdown",
   "metadata": {},
   "source": [
    "## フィルタ処理"
   ]
  },
  {
   "cell_type": "markdown",
   "metadata": {},
   "source": [
    "### ガウシアンフィルタ"
   ]
  },
  {
   "cell_type": "code",
   "execution_count": null,
   "metadata": {
    "collapsed": false
   },
   "outputs": [],
   "source": [
    "gaussian_img = cv2.GaussianBlur(gray_img,(11,11),0)\n",
    "\n",
    "fig = plt.figure(figsize=(10,10),dpi=200)\n",
    "ax1 = fig.add_subplot(1,2,1)\n",
    "ax1.set_title('元画像')\n",
    "ax1.imshow(gray_img, cmap='gray')\n",
    "\n",
    "ax2 = fig.add_subplot(1,2,2)\n",
    "ax2.set_title('ガウシアンフィルタ適用後')\n",
    "ax2.imshow(gaussian_img, cmap='gray')\n",
    "plt.show()\n",
    "plt.show()"
   ]
  },
  {
   "cell_type": "markdown",
   "metadata": {},
   "source": [
    "### Cannyフィルタ"
   ]
  },
  {
   "cell_type": "code",
   "execution_count": null,
   "metadata": {
    "collapsed": false,
    "scrolled": true
   },
   "outputs": [],
   "source": [
    "canny_img = cv2.Canny(gray_img, 100,200)\n",
    "\n",
    "fig = plt.figure(figsize=(10,10),dpi=200)\n",
    "ax1 = fig.add_subplot(1,2,1)\n",
    "ax1.set_title('元画像')\n",
    "ax1.imshow(gray_img, cmap='gray')\n",
    "\n",
    "ax2 = fig.add_subplot(1,2,2)\n",
    "ax2.set_title('Cannyフィルタ適用後')\n",
    "ax2.imshow(canny_img, cmap='gray')\n",
    "plt.show()"
   ]
  },
  {
   "cell_type": "markdown",
   "metadata": {},
   "source": [
    "### バイラテラルフィルタ"
   ]
  },
  {
   "cell_type": "code",
   "execution_count": null,
   "metadata": {
    "collapsed": false,
    "scrolled": true
   },
   "outputs": [],
   "source": [
    "bilateral_img = cv2.bilateralFilter(gray_img,9,75,75)\n",
    "\n",
    "fig = plt.figure(figsize=(10,10),dpi=200)\n",
    "ax1 = fig.add_subplot(1,2,1)\n",
    "ax1.set_title('元画像')\n",
    "ax1.imshow(gray_img, cmap='gray')\n",
    "\n",
    "ax2 = fig.add_subplot(1,2,2)\n",
    "ax2.set_title('バイラテラルフィルタ適用後')\n",
    "ax2.imshow(bilateral_img, cmap='gray')\n",
    "plt.show()"
   ]
  },
  {
   "cell_type": "markdown",
   "metadata": {},
   "source": [
    "## Sobel フィルタ"
   ]
  },
  {
   "cell_type": "markdown",
   "metadata": {},
   "source": [
    "### フィルタのカーネル作成"
   ]
  },
  {
   "cell_type": "code",
   "execution_count": null,
   "metadata": {
    "collapsed": false,
    "scrolled": false
   },
   "outputs": [],
   "source": [
    "x_kernel = np.array([[-1, 0, 1],\n",
    "                    [-2, 0, 2],\n",
    "                    [-1, 0, 1]])\n",
    "\n",
    "y_kernel = x_kernel.T\n",
    "\n",
    "print(\"x方向のsobelフィルタの係数\")\n",
    "print(x_kernel)\n",
    "print(\"y方向のsobelフィルタの係数\")\n",
    "print(y_kernel)"
   ]
  },
  {
   "cell_type": "markdown",
   "metadata": {},
   "source": [
    "### フィルタリング"
   ]
  },
  {
   "cell_type": "code",
   "execution_count": null,
   "metadata": {
    "collapsed": false
   },
   "outputs": [],
   "source": [
    "sobel_x_img = cv2.filter2D(gray_img, -1, x_kernel)\n",
    "sobel_y_img = cv2.filter2D(gray_img, -1, y_kernel)\n",
    "\n",
    "# 画像の表示処理\n",
    "fig = plt.figure(figsize=(10,10),dpi=200)\n",
    "ax1 = fig.add_subplot(2,2,1)\n",
    "ax1.set_title('元画像')\n",
    "ax1.imshow(gray_img, cmap='gray')\n",
    "\n",
    "ax2 = fig.add_subplot(2,2,2)\n",
    "ax2.set_title('x方向のSobelフィルタ適用後')\n",
    "ax2.imshow(sobel_x_img, cmap='gray')\n",
    "\n",
    "ax3 = fig.add_subplot(2,2,3)\n",
    "ax3.set_title('y方向のSobelフィルタ適用後')\n",
    "ax3.imshow(sobel_y_img, cmap='gray')\n",
    "\n",
    "plt.tight_layout()\n",
    "plt.show()"
   ]
  },
  {
   "cell_type": "markdown",
   "metadata": {},
   "source": [
    "## ラプラシアンフィルタ"
   ]
  },
  {
   "cell_type": "code",
   "execution_count": null,
   "metadata": {
    "collapsed": false
   },
   "outputs": [],
   "source": [
    "laplacian = cv2.Laplacian(gray_img,cv2.CV_8U, ksize=1)\n",
    "sobelx = cv2.Sobel(gray_img,cv2.CV_8U,1,0,ksize=3)\n",
    "sobely = cv2.Sobel(gray_img,cv2.CV_8U,0,1,ksize=3)\n",
    "\n",
    "# 画像の表示処理\n",
    "fig = plt.figure(figsize=(10,10),dpi=200)\n",
    "ax1 = fig.add_subplot(2,2,1)\n",
    "ax1.set_title('元画像')\n",
    "ax1.imshow(gray_img, cmap='gray')\n",
    "\n",
    "ax2 = fig.add_subplot(2,2,2)\n",
    "ax2.set_title('x方向のSobelフィルタ適用後')\n",
    "ax2.imshow(sobelx, cmap='gray')\n",
    "\n",
    "ax3 = fig.add_subplot(2,2,3)\n",
    "ax3.set_title('y方向のSobelフィルタ適用後')\n",
    "ax3.imshow(sobely, cmap='gray')\n",
    "\n",
    "ax3 = fig.add_subplot(2,2,4)\n",
    "ax3.set_title('Laplacianフィルタ適用後')\n",
    "ax3.imshow(laplacian, cmap='gray')\n",
    "\n",
    "plt.tight_layout()\n",
    "plt.show()"
   ]
  },
  {
   "cell_type": "markdown",
   "metadata": {},
   "source": [
    "## 色空間の変換"
   ]
  },
  {
   "cell_type": "code",
   "execution_count": null,
   "metadata": {
    "collapsed": true
   },
   "outputs": [],
   "source": [
    "# BGR→YUV\n",
    "yuv_img = cv2.cvtColor(img , cv2.COLOR_BGR2YUV)\n",
    "# BGR→HSV\n",
    "hsv_img = cv2.cvtColor(img , cv2.COLOR_BGR2HSV)\n",
    "# BGR→RGB\n",
    "rgb_img = cv2.cvtColor(img , cv2.COLOR_BGR2RGB)\n",
    "# BGR→グレースケール\n",
    "gray_img = cv2.cvtColor(img , cv2.COLOR_BGR2GRAY)\n"
   ]
  },
  {
   "cell_type": "markdown",
   "metadata": {},
   "source": [
    "## 画像の2値化"
   ]
  },
  {
   "cell_type": "code",
   "execution_count": null,
   "metadata": {
    "collapsed": false
   },
   "outputs": [],
   "source": [
    "# 画像のしきい値処理を行う関数\n",
    "ret, bi_img = cv2.threshold(gray_img, 125, 255, cv2.THRESH_BINARY)\n",
    "# 画像の表示\n",
    "fig = plt.figure(figsize=(10,10),dpi=200)\n",
    "ax1 = fig.add_subplot(1,2,1)\n",
    "ax1.set_title('元画像')\n",
    "ax1.imshow(gray_img, cmap='gray')\n",
    "\n",
    "ax2 = fig.add_subplot(1,2,2)\n",
    "ax2.set_title('バイラテラルフィルタ適用後')\n",
    "ax2.imshow(bi_img, cmap='gray')\n",
    "plt.show()"
   ]
  },
  {
   "cell_type": "markdown",
   "metadata": {},
   "source": [
    "## マスク処理"
   ]
  },
  {
   "cell_type": "code",
   "execution_count": null,
   "metadata": {
    "collapsed": false
   },
   "outputs": [],
   "source": [
    "mask_img = cv2.imread('./img/mask.png')\n",
    "masked_img = cv2.bitwise_and(convert_img, mask_img)\n",
    "fig = plt.figure(figsize=(10,10),dpi=200)\n",
    "ax1 = fig.add_subplot(2,2,1)\n",
    "ax1.set_title('元画像')\n",
    "ax1.imshow(convert_img)\n",
    "\n",
    "ax2 = fig.add_subplot(2,2,2)\n",
    "ax2.set_title('マスク画像')\n",
    "ax2.imshow(mask_img, cmap='gray')\n",
    "\n",
    "ax3 = fig.add_subplot(2,2,3)\n",
    "ax3.set_title('結果画像')\n",
    "ax3.imshow(masked_img)\n",
    "\n",
    "plt.tight_layout()\n",
    "plt.show()"
   ]
  },
  {
   "cell_type": "markdown",
   "metadata": {},
   "source": [
    "## しきい値処理による領域抽出"
   ]
  },
  {
   "cell_type": "markdown",
   "metadata": {},
   "source": [
    "### 画像の読み込みと成分の抽出"
   ]
  },
  {
   "cell_type": "code",
   "execution_count": null,
   "metadata": {
    "collapsed": false
   },
   "outputs": [],
   "source": [
    "# 画像の読み込み\n",
    "color_circle_img = cv2.cvtColor(cv2.imread('./img/colorful.png'), cv2.COLOR_BGR2RGB)\n",
    "# 色空間の変換\n",
    "hsv_img = cv2.cvtColor(color_circle_img, cv2.COLOR_RGB2HSV)\n",
    "\n",
    "# HSV色空間画像から、H成分の取り出し\n",
    "h_img = hsv_img[:, :, 0]"
   ]
  },
  {
   "cell_type": "markdown",
   "metadata": {},
   "source": [
    "### マスク画像の生成とマスク処理"
   ]
  },
  {
   "cell_type": "code",
   "execution_count": null,
   "metadata": {
    "collapsed": true
   },
   "outputs": [],
   "source": [
    "## 画像サイズの取得\n",
    "h, w, ch = color_circle_img.shape\n",
    "# 入力画像と同じサイズの真っ白な画像を作成\n",
    "mask_img2 = np.ones((h, w), dtype=np.uint8)\n",
    "\n",
    "# H成分のしきい値処理\n",
    "# 画素の走査\n",
    "for y in range(h):\n",
    "    for x in range(w):\n",
    "        # しきい値処理\n",
    "        if h_img[y, x] < 90 or h_img[y, x] > 140:\n",
    "            mask_img2[y, x] = 0\n",
    "        else:\n",
    "            pass\n",
    "\n",
    "# 簡単なしきい値処理の書き方\n",
    "# mask_img2[h_img < 90] = 0\n",
    "# mask_img2[h_img > 140] = 0\n",
    "\n",
    "# マスク処理\n",
    "masked_img = cv2.bitwise_and(color_circle_img, color_circle_img, mask=mask_img2)"
   ]
  },
  {
   "cell_type": "markdown",
   "metadata": {},
   "source": [
    "### 画像の表示"
   ]
  },
  {
   "cell_type": "code",
   "execution_count": null,
   "metadata": {
    "collapsed": false
   },
   "outputs": [],
   "source": [
    "fig = plt.figure(figsize=(10,10),dpi=200)\n",
    "ax1 = fig.add_subplot(2,2,1)\n",
    "ax1.set_title('元画像')\n",
    "ax1.imshow(color_circle_img)\n",
    "\n",
    "ax2 = fig.add_subplot(2,2,2)\n",
    "ax2.set_title('マスク画像')\n",
    "ax2.imshow(mask_img2, cmap='gray')\n",
    "\n",
    "ax3 = fig.add_subplot(2,2,3)\n",
    "ax3.set_title('結果画像')\n",
    "ax3.imshow(masked_img)\n",
    "plt.tight_layout()\n",
    "plt.show()"
   ]
  },
  {
   "cell_type": "code",
   "execution_count": null,
   "metadata": {
    "collapsed": true
   },
   "outputs": [],
   "source": []
  }
 ],
 "metadata": {
  "kernelspec": {
   "display_name": "Python 3",
   "language": "python",
   "name": "python3"
  },
  "language_info": {
   "codemirror_mode": {
    "name": "ipython",
    "version": 3
   },
   "file_extension": ".py",
   "mimetype": "text/x-python",
   "name": "python",
   "nbconvert_exporter": "python",
   "pygments_lexer": "ipython3",
   "version": "3.6.0"
  }
 },
 "nbformat": 4,
 "nbformat_minor": 2
}
